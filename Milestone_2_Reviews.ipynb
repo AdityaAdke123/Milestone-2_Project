{
 "cells": [
  {
   "cell_type": "markdown",
   "metadata": {},
   "source": [
    "# Milestone 1"
   ]
  },
  {
   "cell_type": "code",
   "execution_count": 1,
   "metadata": {},
   "outputs": [
    {
     "name": "stderr",
     "output_type": "stream",
     "text": [
      "C:\\Users\\91705\\anaconda3\\lib\\site-packages\\pandas\\core\\computation\\expressions.py:20: UserWarning: Pandas requires version '2.7.3' or newer of 'numexpr' (version '2.7.1' currently installed).\n",
      "  from pandas.core.computation.check import NUMEXPR_INSTALLED\n"
     ]
    }
   ],
   "source": [
    "import pandas as pd"
   ]
  },
  {
   "cell_type": "code",
   "execution_count": 2,
   "metadata": {},
   "outputs": [
    {
     "data": {
      "text/html": [
       "<div>\n",
       "<style scoped>\n",
       "    .dataframe tbody tr th:only-of-type {\n",
       "        vertical-align: middle;\n",
       "    }\n",
       "\n",
       "    .dataframe tbody tr th {\n",
       "        vertical-align: top;\n",
       "    }\n",
       "\n",
       "    .dataframe thead th {\n",
       "        text-align: right;\n",
       "    }\n",
       "</style>\n",
       "<table border=\"1\" class=\"dataframe\">\n",
       "  <thead>\n",
       "    <tr style=\"text-align: right;\">\n",
       "      <th></th>\n",
       "      <th>ReviewId</th>\n",
       "      <th>RecipeId</th>\n",
       "      <th>AuthorId</th>\n",
       "      <th>AuthorName</th>\n",
       "      <th>Rating</th>\n",
       "      <th>Review</th>\n",
       "      <th>DateSubmitted</th>\n",
       "      <th>DateModified</th>\n",
       "    </tr>\n",
       "  </thead>\n",
       "  <tbody>\n",
       "    <tr>\n",
       "      <th>475215</th>\n",
       "      <td>514347</td>\n",
       "      <td>260302</td>\n",
       "      <td>83093</td>\n",
       "      <td>SusieQusie</td>\n",
       "      <td>5</td>\n",
       "      <td>Orange, raspberry, cranberry and lime - all my...</td>\n",
       "      <td>2007-11-12T14:54:42Z</td>\n",
       "      <td>2007-11-12T14:54:42Z</td>\n",
       "    </tr>\n",
       "    <tr>\n",
       "      <th>1210478</th>\n",
       "      <td>1390743</td>\n",
       "      <td>449901</td>\n",
       "      <td>107135</td>\n",
       "      <td>Dienia B.</td>\n",
       "      <td>5</td>\n",
       "      <td>this was      a very nice casserole thank you ...</td>\n",
       "      <td>2013-06-17T22:36:01Z</td>\n",
       "      <td>2013-06-17T22:36:01Z</td>\n",
       "    </tr>\n",
       "    <tr>\n",
       "      <th>708184</th>\n",
       "      <td>779962</td>\n",
       "      <td>20090</td>\n",
       "      <td>19185</td>\n",
       "      <td>ccferne</td>\n",
       "      <td>4</td>\n",
       "      <td>Almost exactly like another recipe I've used (...</td>\n",
       "      <td>2009-01-03T23:25:51Z</td>\n",
       "      <td>2009-01-03T23:25:51Z</td>\n",
       "    </tr>\n",
       "    <tr>\n",
       "      <th>857252</th>\n",
       "      <td>967042</td>\n",
       "      <td>341050</td>\n",
       "      <td>308666</td>\n",
       "      <td>lclausen</td>\n",
       "      <td>5</td>\n",
       "      <td>I have put bacon on my turkey's for years (can...</td>\n",
       "      <td>2009-10-11T20:25:54Z</td>\n",
       "      <td>2009-10-11T20:25:54Z</td>\n",
       "    </tr>\n",
       "    <tr>\n",
       "      <th>192690</th>\n",
       "      <td>206580</td>\n",
       "      <td>118492</td>\n",
       "      <td>93911</td>\n",
       "      <td>SashasMommy</td>\n",
       "      <td>4</td>\n",
       "      <td>These were pretty good... I used garlic salt i...</td>\n",
       "      <td>2005-09-25T15:24:36Z</td>\n",
       "      <td>2005-09-25T15:24:36Z</td>\n",
       "    </tr>\n",
       "  </tbody>\n",
       "</table>\n",
       "</div>"
      ],
      "text/plain": [
       "         ReviewId  RecipeId  AuthorId   AuthorName  Rating  \\\n",
       "475215     514347    260302     83093   SusieQusie       5   \n",
       "1210478   1390743    449901    107135    Dienia B.       5   \n",
       "708184     779962     20090     19185      ccferne       4   \n",
       "857252     967042    341050    308666     lclausen       5   \n",
       "192690     206580    118492     93911  SashasMommy       4   \n",
       "\n",
       "                                                    Review  \\\n",
       "475215   Orange, raspberry, cranberry and lime - all my...   \n",
       "1210478  this was      a very nice casserole thank you ...   \n",
       "708184   Almost exactly like another recipe I've used (...   \n",
       "857252   I have put bacon on my turkey's for years (can...   \n",
       "192690   These were pretty good... I used garlic salt i...   \n",
       "\n",
       "                DateSubmitted          DateModified  \n",
       "475215   2007-11-12T14:54:42Z  2007-11-12T14:54:42Z  \n",
       "1210478  2013-06-17T22:36:01Z  2013-06-17T22:36:01Z  \n",
       "708184   2009-01-03T23:25:51Z  2009-01-03T23:25:51Z  \n",
       "857252   2009-10-11T20:25:54Z  2009-10-11T20:25:54Z  \n",
       "192690   2005-09-25T15:24:36Z  2005-09-25T15:24:36Z  "
      ]
     },
     "execution_count": 2,
     "metadata": {},
     "output_type": "execute_result"
    }
   ],
   "source": [
    "import pandas as pd\n",
    "\n",
    "# Replace 'your_file.csv' with the path to your CSV file\n",
    "df = pd.read_csv('reviews.csv')\n",
    "\n",
    "# Display the first few rows of the dataframe\n",
    "df.sample(5)"
   ]
  },
  {
   "cell_type": "code",
   "execution_count": 3,
   "metadata": {},
   "outputs": [
    {
     "name": "stdout",
     "output_type": "stream",
     "text": [
      "<class 'pandas.core.frame.DataFrame'>\n",
      "RangeIndex: 1401982 entries, 0 to 1401981\n",
      "Data columns (total 8 columns):\n",
      " #   Column         Non-Null Count    Dtype \n",
      "---  ------         --------------    ----- \n",
      " 0   ReviewId       1401982 non-null  int64 \n",
      " 1   RecipeId       1401982 non-null  int64 \n",
      " 2   AuthorId       1401982 non-null  int64 \n",
      " 3   AuthorName     1401982 non-null  object\n",
      " 4   Rating         1401982 non-null  int64 \n",
      " 5   Review         1401768 non-null  object\n",
      " 6   DateSubmitted  1401982 non-null  object\n",
      " 7   DateModified   1401982 non-null  object\n",
      "dtypes: int64(4), object(4)\n",
      "memory usage: 85.6+ MB\n"
     ]
    }
   ],
   "source": [
    "df.info()"
   ]
  },
  {
   "cell_type": "code",
   "execution_count": 4,
   "metadata": {},
   "outputs": [
    {
     "data": {
      "image/png": "[encoded data removed]",
      "text/plain": [
       "<Figure size 864x432 with 1 Axes>"
      ]
     },
     "metadata": {
      "needs_background": "light"
     },
     "output_type": "display_data"
    }
   ],
   "source": [
    "import pandas as pd\n",
    "import matplotlib.pyplot as plt\n",
    "import seaborn as sns\n",
    "\n",
    "# Load the dataset (replace with your actual dataset file)\n",
    "df = pd.read_csv('reviews.csv')  \n",
    "\n",
    "# Set the figure size\n",
    "plt.figure(figsize=(12, 6))\n",
    "\n",
    "# Create a heatmap of missing values\n",
    "sns.heatmap(df.isnull(), cmap=\"viridis\", cbar=False, yticklabels=False)\n",
    "\n",
    "# Add title\n",
    "plt.title(\"Missing Values Heatmap\", fontsize=14)\n",
    "\n",
    "# Show plot\n",
    "plt.show()\n"
   ]
  },
  {
   "cell_type": "code",
   "execution_count": 5,
   "metadata": {},
   "outputs": [
    {
     "name": "stdout",
     "output_type": "stream",
     "text": [
      "Percentage of Missing Values in Each Column:\n",
      "\n",
      "        Column  Missing Percentage\n",
      "Review  Review            0.015264\n",
      "\n",
      "Overall Percentage of Missing Values in the Dataset: 0.00%\n"
     ]
    }
   ],
   "source": [
    "# Calculate the percentage of missing values per column\n",
    "missing_percentage = (df.isnull().sum() / len(df)) * 100\n",
    "\n",
    "# Convert to a DataFrame for better readability\n",
    "missing_df = pd.DataFrame({\"Column\": df.columns, \"Missing Percentage\": missing_percentage})\n",
    "\n",
    "# Display only columns with missing values\n",
    "missing_df = missing_df[missing_df[\"Missing Percentage\"] > 0].sort_values(by=\"Missing Percentage\", ascending=False)\n",
    "\n",
    "# Calculate the overall percentage of missing values\n",
    "overall_missing_percentage = (df.isnull().sum().sum() / (df.shape[0] * df.shape[1])) * 100\n",
    "\n",
    "# Print results\n",
    "print(\"Percentage of Missing Values in Each Column:\\n\")\n",
    "print(missing_df)\n",
    "print(\"\\nOverall Percentage of Missing Values in the Dataset: {:.2f}%\".format(overall_missing_percentage))"
   ]
  },
  {
   "cell_type": "code",
   "execution_count": 6,
   "metadata": {},
   "outputs": [
    {
     "name": "stdout",
     "output_type": "stream",
     "text": [
      "<class 'pandas.core.frame.DataFrame'>\n",
      "Index: 1401768 entries, 0 to 1401981\n",
      "Data columns (total 8 columns):\n",
      " #   Column         Non-Null Count    Dtype \n",
      "---  ------         --------------    ----- \n",
      " 0   ReviewId       1401768 non-null  int64 \n",
      " 1   RecipeId       1401768 non-null  int64 \n",
      " 2   AuthorId       1401768 non-null  int64 \n",
      " 3   AuthorName     1401768 non-null  object\n",
      " 4   Rating         1401768 non-null  int64 \n",
      " 5   Review         1401768 non-null  object\n",
      " 6   DateSubmitted  1401768 non-null  object\n",
      " 7   DateModified   1401768 non-null  object\n",
      "dtypes: int64(4), object(4)\n",
      "memory usage: 96.3+ MB\n"
     ]
    }
   ],
   "source": [
    "import pandas as pd\n",
    "\n",
    "df_cleaned = df.dropna(subset=['Review'])\n",
    "\n",
    "# Display information about the cleaned dataset\n",
    "df_cleaned.info()\n"
   ]
  },
  {
   "cell_type": "code",
   "execution_count": 7,
   "metadata": {},
   "outputs": [
    {
     "name": "stdout",
     "output_type": "stream",
     "text": [
      "              DateSubmitted  Year\n",
      "0 2000-01-25 21:44:00+00:00  2000\n",
      "1 2001-10-17 16:49:59+00:00  2001\n",
      "2 2000-02-25 09:00:00+00:00  2000\n",
      "3 2000-03-13 21:15:00+00:00  2000\n",
      "4 2000-03-28 12:51:00+00:00  2000\n"
     ]
    },
    {
     "name": "stderr",
     "output_type": "stream",
     "text": [
      "<ipython-input-7-af9ca6365b3f>:4: SettingWithCopyWarning: \n",
      "A value is trying to be set on a copy of a slice from a DataFrame.\n",
      "Try using .loc[row_indexer,col_indexer] = value instead\n",
      "\n",
      "See the caveats in the documentation: https://pandas.pydata.org/pandas-docs/stable/user_guide/indexing.html#returning-a-view-versus-a-copy\n",
      "  df_cleaned['DateSubmitted'] = pd.to_datetime(df_cleaned['DateSubmitted'], errors='coerce')\n",
      "<ipython-input-7-af9ca6365b3f>:7: SettingWithCopyWarning: \n",
      "A value is trying to be set on a copy of a slice from a DataFrame.\n",
      "Try using .loc[row_indexer,col_indexer] = value instead\n",
      "\n",
      "See the caveats in the documentation: https://pandas.pydata.org/pandas-docs/stable/user_guide/indexing.html#returning-a-view-versus-a-copy\n",
      "  df_cleaned['Year'] = df_cleaned['DateSubmitted'].dt.year\n"
     ]
    }
   ],
   "source": [
    "import pandas as pd\n",
    "\n",
    "# Convert DateSubmitted to datetime format\n",
    "df_cleaned['DateSubmitted'] = pd.to_datetime(df_cleaned['DateSubmitted'], errors='coerce')\n",
    "\n",
    "# Extract the year\n",
    "df_cleaned['Year'] = df_cleaned['DateSubmitted'].dt.year\n",
    "\n",
    "# Check if conversion worked\n",
    "print(df_cleaned[['DateSubmitted', 'Year']].head())"
   ]
  },
  {
   "cell_type": "markdown",
   "metadata": {},
   "source": [
    "## Analysis of Cleaned Data"
   ]
  },
  {
   "cell_type": "code",
   "execution_count": 8,
   "metadata": {},
   "outputs": [
    {
     "data": {
      "image/png": "[encoded data removed]",
      "text/plain": [
       "<Figure size 432x288 with 1 Axes>"
      ]
     },
     "metadata": {
      "needs_background": "light"
     },
     "output_type": "display_data"
    }
   ],
   "source": [
    "import matplotlib.pyplot as plt\n",
    "df_cleaned['Rating'].value_counts().sort_index().plot(kind='bar', title=\"Distribution of Ratings\")\n",
    "plt.xlabel(\"Rating\")\n",
    "plt.ylabel(\"Count\")\n",
    "plt.show()\n"
   ]
  },
  {
   "cell_type": "code",
   "execution_count": 9,
   "metadata": {},
   "outputs": [],
   "source": [
    "top_reviewers = df_cleaned['AuthorName'].value_counts().head(10)\n",
    "top_recipes = df_cleaned['RecipeId'].value_counts().head(10)"
   ]
  },
  {
   "cell_type": "code",
   "execution_count": 10,
   "metadata": {},
   "outputs": [
    {
     "data": {
      "text/plain": [
       "AuthorName\n",
       "Sydney Mike            8842\n",
       "Sharon123              6605\n",
       "Boomette               5438\n",
       "Baby Kato              4693\n",
       "Annacia                4586\n",
       "Kittencalrecipezazz    3963\n",
       "Rita1652               3743\n",
       "Parsley                3688\n",
       "PaulaG                 3590\n",
       "lazyme                 3543\n",
       "Name: count, dtype: int64"
      ]
     },
     "execution_count": 10,
     "metadata": {},
     "output_type": "execute_result"
    }
   ],
   "source": [
    "top_reviewers"
   ]
  },
  {
   "cell_type": "code",
   "execution_count": 11,
   "metadata": {},
   "outputs": [
    {
     "data": {
      "text/plain": [
       "RecipeId\n",
       "45809    2892\n",
       "2886     2177\n",
       "27208    1614\n",
       "89204    1584\n",
       "39087    1491\n",
       "67256    1359\n",
       "35813    1352\n",
       "54257    1325\n",
       "22782    1273\n",
       "32204    1228\n",
       "Name: count, dtype: int64"
      ]
     },
     "execution_count": 11,
     "metadata": {},
     "output_type": "execute_result"
    }
   ],
   "source": [
    "top_recipes"
   ]
  },
  {
   "cell_type": "code",
   "execution_count": 12,
   "metadata": {},
   "outputs": [
    {
     "name": "stderr",
     "output_type": "stream",
     "text": [
      "<ipython-input-12-76b766954b85>:1: SettingWithCopyWarning: \n",
      "A value is trying to be set on a copy of a slice from a DataFrame.\n",
      "Try using .loc[row_indexer,col_indexer] = value instead\n",
      "\n",
      "See the caveats in the documentation: https://pandas.pydata.org/pandas-docs/stable/user_guide/indexing.html#returning-a-view-versus-a-copy\n",
      "  df_cleaned['Year'] = df_cleaned['DateSubmitted'].dt.year\n"
     ]
    },
    {
     "data": {
      "image/png": "[encoded data removed]",
      "text/plain": [
       "<Figure size 432x288 with 1 Axes>"
      ]
     },
     "metadata": {
      "needs_background": "light"
     },
     "output_type": "display_data"
    }
   ],
   "source": [
    "df_cleaned['Year'] = df_cleaned['DateSubmitted'].dt.year\n",
    "df_cleaned.groupby('Year').size().plot(kind='line', title=\"Review Trends Over Time\")\n",
    "plt.xlabel(\"Year\")\n",
    "plt.ylabel(\"Number of Reviews\")\n",
    "plt.show()\n"
   ]
  },
  {
   "cell_type": "code",
   "execution_count": 13,
   "metadata": {},
   "outputs": [
    {
     "data": {
      "text/plain": [
       "<Axes: title={'center': 'Average Rating Over Time'}, xlabel='Year'>"
      ]
     },
     "execution_count": 13,
     "metadata": {},
     "output_type": "execute_result"
    },
    {
     "data": {
      "image/png": "[encoded data removed]",
      "text/plain": [
       "<Figure size 432x288 with 1 Axes>"
      ]
     },
     "metadata": {
      "needs_background": "light"
     },
     "output_type": "display_data"
    }
   ],
   "source": [
    "df_cleaned.groupby('Year')['Rating'].mean().plot(kind='line', title=\"Average Rating Over Time\")\n"
   ]
  },
  {
   "cell_type": "code",
   "execution_count": 14,
   "metadata": {},
   "outputs": [],
   "source": [
    "# Save the cleaned dataset as a CSV file in the current directory\n",
    "df_cleaned.to_csv(\"cleaned_reviews_dataset_2.csv\", index=False)"
   ]
  },
  {
   "cell_type": "markdown",
   "metadata": {},
   "source": [
    "# Milestone 2"
   ]
  },
  {
   "cell_type": "code",
   "execution_count": 18,
   "metadata": {},
   "outputs": [],
   "source": [
    "import pandas as pd\n",
    "import numpy as np\n",
    "import re\n",
    "import time\n",
    "from sklearn.model_selection import train_test_split\n",
    "from sklearn.feature_extraction.text import TfidfVectorizer\n",
    "from sklearn.linear_model import LogisticRegression\n",
    "from sklearn.ensemble import RandomForestClassifier\n",
    "from sklearn.tree import DecisionTreeClassifier\n",
    "from sklearn.metrics import classification_report, roc_auc_score, roc_curve\n",
    "import matplotlib.pyplot as plt\n",
    "\n",
    "# Start timer\n",
    "start_time = time.time()\n",
    "\n",
    "# Filter and prepare the data\n",
    "df_reviews = df_cleaned[['Rating', 'Review']].dropna(subset=['Rating', 'Review']).copy()\n",
    "df_reviews['HighRating'] = (df_reviews['Rating'] == 5).astype(int)\n",
    "df_reviews['Cleaned_Review'] = df_reviews['Review'].apply(lambda x: ' '.join(re.findall(r'\\w+', str(x).lower())))\n",
    "\n",
    "# Reduce dataset size for faster processing (optional optimization)\n",
    "df_reviews_sample = df_reviews.sample(n=10000, random_state=42)\n",
    "\n",
    "# TF-IDF vectorization\n",
    "vectorizer = TfidfVectorizer(max_features=1000)\n",
    "X = vectorizer.fit_transform(df_reviews_sample['Cleaned_Review'])\n",
    "y = df_reviews_sample['HighRating']\n",
    "\n",
    "# Split data\n",
    "X_train, X_temp, y_train, y_temp = train_test_split(X, y, test_size=0.3, random_state=42, stratify=y)\n",
    "X_val, X_test, y_val, y_test = train_test_split(X_temp, y_temp, test_size=0.5, random_state=42, stratify=y_temp)\n",
    "\n",
    "# Initialize models\n",
    "models = {\n",
    "    \"Logistic Regression\": LogisticRegression(max_iter=500),\n",
    "    \"Decision Tree\": DecisionTreeClassifier(max_depth=10),\n",
    "    \"Random Forest\": RandomForestClassifier(n_estimators=50, max_depth=10, random_state=42)\n",
    "}\n",
    "\n",
    "results = {}\n"
   ]
  },
  {
   "cell_type": "code",
   "execution_count": 19,
   "metadata": {},
   "outputs": [
    {
     "name": "stdout",
     "output_type": "stream",
     "text": [
      "Training Logistic Regression...\n",
      "Logistic Regression completed.\n",
      "Training Decision Tree...\n",
      "Decision Tree completed.\n",
      "Training Random Forest...\n",
      "Random Forest completed.\n"
     ]
    }
   ],
   "source": [
    "\n",
    "# Train and evaluate with progress messages\n",
    "for name, model in models.items():\n",
    "    print(f\"Training {name}...\")\n",
    "    model.fit(X_train, y_train)\n",
    "    y_pred = model.predict(X_val)\n",
    "    y_proba = model.predict_proba(X_val)[:, 1]\n",
    "\n",
    "    report = classification_report(y_val, y_pred, output_dict=True)\n",
    "    auc = roc_auc_score(y_val, y_proba)\n",
    "    fpr, tpr, _ = roc_curve(y_val, y_proba)\n",
    "\n",
    "    results[name] = {\n",
    "        \"model\": model,\n",
    "        \"report\": report,\n",
    "        \"auc\": auc,\n",
    "        \"fpr\": fpr,\n",
    "        \"tpr\": tpr\n",
    "    }\n",
    "    print(f\"{name} completed.\")\n"
   ]
  },
  {
   "cell_type": "code",
   "execution_count": 20,
   "metadata": {},
   "outputs": [
    {
     "data": {
      "image/png": "[encoded data removed]",
      "text/plain": [
       "<Figure size 720x432 with 1 Axes>"
      ]
     },
     "metadata": {
      "needs_background": "light"
     },
     "output_type": "display_data"
    }
   ],
   "source": [
    "\n",
    "# Plot ROC Curves\n",
    "plt.figure(figsize=(10, 6))\n",
    "for name, res in results.items():\n",
    "    plt.plot(res[\"fpr\"], res[\"tpr\"], label=f\"{name} (AUC = {res['auc']:.2f})\")\n",
    "plt.plot([0, 1], [0, 1], 'k--')\n",
    "plt.title(\"ROC Curve Comparison (Review Sentiment Classification)\")\n",
    "plt.xlabel(\"False Positive Rate\")\n",
    "plt.ylabel(\"True Positive Rate\")\n",
    "plt.legend()\n",
    "plt.grid(True)\n",
    "plt.tight_layout()\n",
    "plt.show()\n",
    "\n",
    "# Prepare summary DataFrame\n",
    "summary = {\n",
    "    model: {\n",
    "        \"Accuracy\": res[\"report\"][\"accuracy\"],\n",
    "        \"Precision\": res[\"report\"][\"1\"][\"precision\"],\n",
    "        \"Recall\": res[\"report\"][\"1\"][\"recall\"],\n",
    "        \"F1-Score\": res[\"report\"][\"1\"][\"f1-score\"],\n",
    "        \"AUC\": res[\"auc\"]\n",
    "    }\n",
    "    for model, res in results.items()\n",
    "}\n",
    "\n"
   ]
  },
  {
   "cell_type": "code",
   "execution_count": 21,
   "metadata": {},
   "outputs": [
    {
     "data": {
      "text/html": [
       "<div>\n",
       "<style scoped>\n",
       "    .dataframe tbody tr th:only-of-type {\n",
       "        vertical-align: middle;\n",
       "    }\n",
       "\n",
       "    .dataframe tbody tr th {\n",
       "        vertical-align: top;\n",
       "    }\n",
       "\n",
       "    .dataframe thead th {\n",
       "        text-align: right;\n",
       "    }\n",
       "</style>\n",
       "<table border=\"1\" class=\"dataframe\">\n",
       "  <thead>\n",
       "    <tr style=\"text-align: right;\">\n",
       "      <th></th>\n",
       "      <th>Model</th>\n",
       "      <th>Accuracy</th>\n",
       "      <th>Precision</th>\n",
       "      <th>Recall</th>\n",
       "      <th>F1-Score</th>\n",
       "      <th>AUC</th>\n",
       "    </tr>\n",
       "  </thead>\n",
       "  <tbody>\n",
       "    <tr>\n",
       "      <th>0</th>\n",
       "      <td>Logistic Regression</td>\n",
       "      <td>0.776000</td>\n",
       "      <td>0.789679</td>\n",
       "      <td>0.937790</td>\n",
       "      <td>0.857385</td>\n",
       "      <td>0.793591</td>\n",
       "    </tr>\n",
       "    <tr>\n",
       "      <th>1</th>\n",
       "      <td>Decision Tree</td>\n",
       "      <td>0.708000</td>\n",
       "      <td>0.737900</td>\n",
       "      <td>0.920149</td>\n",
       "      <td>0.819008</td>\n",
       "      <td>0.628243</td>\n",
       "    </tr>\n",
       "    <tr>\n",
       "      <th>2</th>\n",
       "      <td>Random Forest</td>\n",
       "      <td>0.724667</td>\n",
       "      <td>0.722819</td>\n",
       "      <td>1.000000</td>\n",
       "      <td>0.839112</td>\n",
       "      <td>0.758925</td>\n",
       "    </tr>\n",
       "  </tbody>\n",
       "</table>\n",
       "</div>"
      ],
      "text/plain": [
       "                 Model  Accuracy  Precision    Recall  F1-Score       AUC\n",
       "0  Logistic Regression  0.776000   0.789679  0.937790  0.857385  0.793591\n",
       "1        Decision Tree  0.708000   0.737900  0.920149  0.819008  0.628243\n",
       "2        Random Forest  0.724667   0.722819  1.000000  0.839112  0.758925"
      ]
     },
     "metadata": {},
     "output_type": "display_data"
    }
   ],
   "source": [
    "from IPython.display import display\n",
    "display(summary_df)\n"
   ]
  },
  {
   "cell_type": "code",
   "execution_count": null,
   "metadata": {},
   "outputs": [],
   "source": []
  }
 ],
 "metadata": {
  "kernelspec": {
   "display_name": "Python 3",
   "language": "python",
   "name": "python3"
  },
  "language_info": {
   "codemirror_mode": {
    "name": "ipython",
    "version": 3
   },
   "file_extension": ".py",
   "mimetype": "text/x-python",
   "name": "python",
   "nbconvert_exporter": "python",
   "pygments_lexer": "ipython3",
   "version": "3.8.5"
  }
 },
 "nbformat": 4,
 "nbformat_minor": 4
}
